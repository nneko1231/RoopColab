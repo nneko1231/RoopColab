{
  "nbformat": 4,
  "nbformat_minor": 0,
  "metadata": {
    "colab": {
      "provenance": [],
      "gpuType": "T4",
      "authorship_tag": "ABX9TyPIEiSDsZy8tekhMo+gpKLR",
      "include_colab_link": true
    },
    "kernelspec": {
      "name": "python3",
      "display_name": "Python 3"
    },
    "language_info": {
      "name": "python"
    },
    "accelerator": "GPU"
  },
  "cells": [
    {
      "cell_type": "markdown",
      "metadata": {
        "id": "view-in-github",
        "colab_type": "text"
      },
      "source": [
        "<a href=\"https://colab.research.google.com/github/nneko1231/RoopColab/blob/main/DeepFake_V2.3.ipynb\" target=\"_parent\"><img src=\"https://colab.research.google.com/assets/colab-badge.svg\" alt=\"Open In Colab\"/></a>"
      ]
    },
    {
      "cell_type": "markdown",
      "source": [
        "# 1. Drive Mount"
      ],
      "metadata": {
        "id": "9b2SnuTnpj4N"
      }
    },
    {
      "cell_type": "code",
      "source": [
        "# will mount drive if MOUNT_DRIVE is True\n",
        "import os\n",
        "import subprocess\n",
        "import shutil\n",
        "from google.colab import drive, output\n",
        "\n",
        "# Add a parameter to control mounting Google Drive\n",
        "MOUNT_DRIVE = True  #@param {type:\"boolean\"}\n",
        "\n",
        "# mount drive if MOUNT_DRIVE is True\n",
        "if MOUNT_DRIVE:\n",
        "    drive.mount('/content/drive')"
      ],
      "metadata": {
        "cellView": "form",
        "id": "qmguu9UOp4WQ"
      },
      "execution_count": null,
      "outputs": []
    },
    {
      "cell_type": "markdown",
      "source": [
        "# 2. Installing"
      ],
      "metadata": {
        "id": "RQPKKWO95NcA"
      }
    },
    {
      "cell_type": "code",
      "source": [
        "!git clone https://github.com/nneko1231/roop\n",
        "%cd roop\n",
        "!pip install onnxruntime-gpu && pip install -r requirements.txt"
      ],
      "metadata": {
        "id": "Ni7BVQoCTcb0"
      },
      "execution_count": null,
      "outputs": []
    },
    {
      "cell_type": "code",
      "source": [
        "!wget https://huggingface.co/ezioruan/inswapper_128.onnx/resolve/main/inswapper_128.onnx -O inswapper_128.onnx\n",
        "!mkdir models\n",
        "!mv inswapper_128.onnx ./models"
      ],
      "metadata": {
        "id": "eobHNysva8Zl"
      },
      "execution_count": null,
      "outputs": []
    },
    {
      "cell_type": "code",
      "source": [
        "file_path = '/usr/local/lib/python3.11/dist-packages/jax/_src/dtypes.py'\n",
        "\n",
        "with open(file_path, 'r') as f:\n",
        "    file_contents = f.read()\n",
        "\n",
        "file_contents = file_contents.replace('np.dtypes', 'np.dtype')\n",
        "\n",
        "with open(file_path, 'w') as f:\n",
        "    f.write(file_contents)"
      ],
      "metadata": {
        "id": "cIeA2vvRYQl0"
      },
      "execution_count": 3,
      "outputs": []
    },
    {
      "cell_type": "markdown",
      "source": [
        "# 3. Settings"
      ],
      "metadata": {
        "id": "Qf3KeAzB5Wpi"
      }
    },
    {
      "cell_type": "code",
      "source": [
        "SOURCE_PATH = \"SOURCE.jpg\" #@param {type:\"string\"}\n",
        "TARGET_PATH = \"TARGET.mp4\" #@param {type:\"string\"}\n",
        "OUTPUT_PATH = \"OUTPUT.mp4\" #@param {type:\"string\"}\n",
        "keep_fps = True  #@param {type:\"boolean\"}\n",
        "keep_frames = True  #@param {type:\"boolean\"}\n",
        "skip_audio = False  #@param {type:\"boolean\"}\n",
        "temp_frame_format = \"png\" #@param [\"jpg\" , \"png\"]\n",
        "#@markdown - Recommended 80–95 to balance quality and efficiency.\n",
        "temp_frame_quality = 80 # @param {\"type\":\"slider\",\"min\":0,\"max\":100,\"step\":1}\n",
        "output_video_encoder = \"h264_nvenc\" #@param [\"libx264\",\"libx265\",\"libvpx-vp9\",\"h264_nvenc\",\"hevc_nvenc\"]\n",
        "#@markdown - For professional or publication results, a value of 80+ is recommended.\n",
        "#@markdown - For a quick test or preview, a value of 40–60 can be used.\n",
        "output_video_quality = 80 # @param {\"type\":\"slider\",\"min\":0,\"max\":100,\"step\":1}\n",
        "max_memory = 12 # @param {\"type\":\"slider\",\"min\":0.1,\"max\":12,\"step\":0.1}\n"
      ],
      "metadata": {
        "id": "NJ4STaac5Y_p",
        "cellView": "form"
      },
      "execution_count": 4,
      "outputs": []
    },
    {
      "cell_type": "markdown",
      "source": [
        "# 4. Run"
      ],
      "metadata": {
        "id": "oRdlVEa5_KeB"
      }
    },
    {
      "cell_type": "code",
      "source": [
        "import os\n",
        "\n",
        "def build_backend_command() -> str:\n",
        "    command = (\n",
        "        'python3 /content/roop/run.py' +\n",
        "        f' -s \"{SOURCE_PATH}\" ' +\n",
        "        f' -t \"{TARGET_PATH}\" ' +\n",
        "        f' -o \"{OUTPUT_PATH}\" ' +\n",
        "        f' --execution-provider cuda ' +\n",
        "        f' --frame-processor face_swapper face_enhancer ' +\n",
        "        f' --execution-threads 8'\n",
        "    )\n",
        "\n",
        "    if keep_fps:\n",
        "        command += ' --keep-fps '\n",
        "    if keep_frames:\n",
        "        command += ' --keep-frames '\n",
        "    if skip_audio:\n",
        "        command += ' --skip-audio '\n",
        "\n",
        "    command += (\n",
        "        f' --temp-frame-format {temp_frame_format} ' +\n",
        "        f' --temp-frame-quality {temp_frame_quality} ' +\n",
        "        f' --output-video-encoder {output_video_encoder} ' +\n",
        "        f' --output-video-quality {output_video_quality} ' +\n",
        "        f' --max-memory {max_memory} '\n",
        "    )\n",
        "    return command\n",
        "\n",
        "try:\n",
        "    with open(\"command.sh\", \"w\") as f:\n",
        "        f.write(build_backend_command())\n",
        "\n",
        "    !bash command.sh\n",
        "\n",
        "except KeyboardInterrupt:\n",
        "    print(\"The process was terminated by the user.\")\n",
        "\n",
        "finally:\n",
        "    if os.path.exists(\"command.sh\"):\n",
        "        os.remove(\"command.sh\")\n",
        "        print(\"The command.sh file is deleted.\")\n"
      ],
      "metadata": {
        "id": "Ny436xw7_NnS"
      },
      "execution_count": null,
      "outputs": []
    }
  ]
}