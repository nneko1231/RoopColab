{
  "nbformat": 4,
  "nbformat_minor": 0,
  "metadata": {
    "colab": {
      "provenance": [],
      "gpuType": "T4",
      "authorship_tag": "ABX9TyMGlpPV38/sPPhYr6j/j3Kg",
      "include_colab_link": true
    },
    "kernelspec": {
      "name": "python3",
      "display_name": "Python 3"
    },
    "language_info": {
      "name": "python"
    },
    "accelerator": "GPU"
  },
  "cells": [
    {
      "cell_type": "markdown",
      "metadata": {
        "id": "view-in-github",
        "colab_type": "text"
      },
      "source": [
        "<a href=\"https://colab.research.google.com/github/nneko1231/RoopColab/blob/main/DeepFake_V2.2.ipynb\" target=\"_parent\"><img src=\"https://colab.research.google.com/assets/colab-badge.svg\" alt=\"Open In Colab\"/></a>"
      ]
    },
    {
      "cell_type": "markdown",
      "source": [
        "# 1. Drive Mount"
      ],
      "metadata": {
        "id": "9b2SnuTnpj4N"
      }
    },
    {
      "cell_type": "code",
      "source": [
        "# will mount drive if MOUNT_DRIVE is True\n",
        "import os\n",
        "import subprocess\n",
        "import shutil\n",
        "from google.colab import drive, output\n",
        "\n",
        "# Add a parameter to control mounting Google Drive\n",
        "MOUNT_DRIVE = True  #@param {type:\"boolean\"}\n",
        "\n",
        "# mount drive if MOUNT_DRIVE is True\n",
        "if MOUNT_DRIVE:\n",
        "    drive.mount('/content/drive')"
      ],
      "metadata": {
        "cellView": "form",
        "id": "qmguu9UOp4WQ"
      },
      "execution_count": null,
      "outputs": []
    },
    {
      "cell_type": "markdown",
      "source": [
        "# 2. Installing"
      ],
      "metadata": {
        "id": "RQPKKWO95NcA"
      }
    },
    {
      "cell_type": "code",
      "execution_count": null,
      "metadata": {
        "id": "t1yPuhdySqCq"
      },
      "outputs": [],
      "source": [
        "!git clone https://github.com/nneko1231/roop\n",
        "%cd roop\n",
        "!pip install onnxruntime-gpu && pip install -r requirements.txt"
      ]
    },
    {
      "cell_type": "code",
      "source": [
        "!wget https://huggingface.co/ezioruan/inswapper_128.onnx/resolve/main/inswapper_128.onnx -O inswapper_128.onnx\n",
        "!mkdir models\n",
        "!mv inswapper_128.onnx ./models"
      ],
      "metadata": {
        "id": "eobHNysva8Zl"
      },
      "execution_count": null,
      "outputs": []
    },
    {
      "cell_type": "markdown",
      "source": [
        "# 3. Settings"
      ],
      "metadata": {
        "id": "Qf3KeAzB5Wpi"
      }
    },
    {
      "cell_type": "code",
      "source": [
        "SOURCE_PATH = \"Input.mp4\" #@param {type:\"string\"}\n",
        "TARGET_PATH = \"Target.jpg\" #@param {type:\"string\"}\n",
        "OUTPUT_PATH = \"Output.mp4\" #@param {type:\"string\"}\n",
        "keep-fps = True  #@param {type:\"boolean\"}\n",
        "keep-frames = True  #@param {type:\"boolean\"}\n",
        "skip-audio = False  #@param {type:\"boolean\"}\n",
        "temp-frame-format = \"jpg\" #@param [\"jpg\" , \"png\"]\n",
        "temp-frame-quality = 100 # @param {\"type\":\"slider\",\"min\":1,\"max\":100,\"step\":1}\n",
        "output-video-encoder = \"h264_nvenc\" #@param [\"libx264\",\"libx265\",\"libvpx-vp9\",\"h264_nvenc\",\"hevc_nvenc\"]\n",
        "output-video-quality = 100 # @param {\"type\":\"slider\",\"min\":1,\"max\":100,\"step\":1}\n",
        "max-memory MAX_MEMORY = 12 # @param {\"type\":\"slider\",\"min\":0.1,\"max\":12,\"step\":0.1}\n"
      ],
      "metadata": {
        "id": "NJ4STaac5Y_p",
        "cellView": "form"
      },
      "execution_count": null,
      "outputs": []
    },
    {
      "cell_type": "markdown",
      "source": [
        "# 4. Run"
      ],
      "metadata": {
        "id": "oRdlVEa5_KeB"
      }
    },
    {
      "cell_type": "code",
      "source": [
        "def build_backend_command() -> str:\n",
        "    command = (('python3 real-video-enhancer/backend/rve-backend.py')\n",
        "        f'-s \"{SOURCE_PATH}\" '\n",
        "        f'-t \"{TARGET_PATH}\" '\n",
        "        f'-o \"{OUTPUT_PATH}\" '\n",
        "        f'--execution-provider cuda '  # Always use CUDA for GPU acceleration\n",
        "        f'--frame-processor face_swapper face_enhancer '  # Always use face_swapper and face_enhancer\n",
        "        + f'--keep-fps {str(keep_fps).lower()} '  # Keep FPS flag\n",
        "        + f'--keep-frames {str(keep_frames).lower()} '  # Keep frames flag\n",
        "        + f'--skip-audio {str(skip_audio).lower()} '  # Skip audio flag\n",
        "        + f'--temp-frame-format {temp_frame_format} '  # Temp frame format (jpg or png)\n",
        "        + f'--temp-frame-quality {temp_frame_quality} '  # Temp frame quality (0-100)\n",
        "        + f'--output-video-encoder {output_video_encoder} '  # Output video encoder (e.g., h264_nvenc)\n",
        "        + f'--output-video-quality {output_video_quality} '  # Output video quality (0-100)\n",
        "        + f'--max-memory {max_memory} '  # Max memory usage in GB\n",
        "    )\n",
        "    return command\n",
        "\n",
        "# Write the command to a shell script\n",
        "with open(\"command.sh\", \"w\") as f:\n",
        "    f.write(build_backend_command())\n",
        "\n",
        "# Run the command from the shell script\n",
        "!bash command.sh\n",
        "\n",
        "# Remove the command.sh file after execution\n",
        "import os\n",
        "os.remove(\"command.sh\")"
      ],
      "metadata": {
        "id": "Ny436xw7_NnS"
      },
      "execution_count": null,
      "outputs": []
    }
  ]
}